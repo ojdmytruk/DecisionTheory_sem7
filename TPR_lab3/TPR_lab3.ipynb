{
 "cells": [
  {
   "cell_type": "code",
   "execution_count": 1,
   "metadata": {},
   "outputs": [],
   "source": [
    "import numpy as np"
   ]
  },
  {
   "cell_type": "code",
   "execution_count": null,
   "outputs": [],
   "source": [
    "#### Задана матриця:"
   ],
   "metadata": {
    "collapsed": false,
    "pycharm": {
     "name": "#%%\n"
    }
   }
  },
  {
   "cell_type": "code",
   "execution_count": null,
   "outputs": [],
   "source": [
    "task_array = [[ 3, 3, 8, 3, 10, 10, 6, 5, 4, 6, 3, 6],\n",
    "              [ 3, 2, 8, 3, 2, 6, 6, 5, 4, 6, 3, 3],\n",
    "              [ 10, 6, 8, 3, 10, 10, 10, 5, 7, 6, 8, 10],\n",
    "              [ 1, 5, 4, 3, 1, 8, 10, 4, 7, 4, 8, 9],\n",
    "              [ 6, 6, 8, 3, 10, 10, 10, 5, 7, 6, 8, 9],\n",
    "              [ 7, 9, 8, 9, 10, 10, 10, 8, 7, 6, 8, 9],\n",
    "              [ 7, 9, 8, 9, 10, 10, 10, 8, 7, 6, 8, 9],\n",
    "              [ 7, 9, 8, 9, 10, 10, 10, 8, 7, 6, 8, 9],\n",
    "              [ 3, 3, 6, 3, 1, 5, 6, 5, 4, 6, 3, 5],\n",
    "              [ 5, 9, 10, 4, 1, 5, 10, 5, 4, 8, 3, 6],\n",
    "              [ 1, 2, 4, 3, 1, 5, 7, 4, 4, 4, 3, 3],\n",
    "              [ 1, 2, 4, 3, 1, 5, 7, 4, 4, 4, 3, 3],\n",
    "              [ 5, 6, 8, 8, 2, 10, 7, 7, 4, 4, 3, 4],\n",
    "              [ 7, 9, 8, 9, 10, 10, 10, 8, 7, 6, 8, 9],\n",
    "              [ 8, 9, 8, 9, 10, 10, 10, 8, 8, 6, 8, 9],\n",
    "              [ 7, 7, 8, 6, 2, 1, 4, 5, 6, 6, 2, 6],\n",
    "              [ 1, 3, 6, 4, 2, 1, 4, 4, 3, 3, 2, 6],\n",
    "              [10, 6, 8, 6, 10, 10, 10, 8, 7, 6, 10, 10],\n",
    "              [ 7, 3, 8, 6, 5, 7, 7, 8, 4, 4, 1, 1],\n",
    "              [ 8, 8, 8, 10, 6, 7, 10, 8, 4, 4, 10, 9],\n",
    "              [ 1, 3, 2, 4, 2, 1, 4, 4, 3, 3, 2, 6],\n",
    "              [ 1, 3, 2, 4, 2, 1, 2, 4, 3, 3, 2, 3]]"
   ],
   "metadata": {
    "collapsed": false,
    "pycharm": {
     "name": "#%%\n"
    }
   }
  },
  {
   "cell_type": "markdown",
   "source": [
    "#### Формування множини векторів сигма"
   ],
   "metadata": {
    "collapsed": false
   }
  },
  {
   "cell_type": "code",
   "execution_count": null,
   "outputs": [],
   "source": [
    "def compare_alternatives ( a1, a2):\n",
    "    comparison_result = []\n",
    "    np.array(comparison_result)\n",
    "    for i in range(0, 12):\n",
    "        if a1[i] > a2[i]:\n",
    "            comparison_result[i] = 1\n",
    "        elif a1[i] < a2[i]:\n",
    "            comparison_result[i] = -1\n",
    "        elif a1[i] == a2[i]:\n",
    "            comparison_result[i] = 0\n",
    "    return comparison_result\n",
    "\n",
    "def sigma_vectors(matrix):\n",
    "    alternatives = np.array(matrix)\n",
    "    for i in range(0, 20):\n",
    "        for j in range(0, 20):\n",
    "            print(compare_alternatives(alternatives[i], alternatives[j]))\n",
    "\n",
    "sigma_vectors(task_array)\n",
    "    "
   ],
   "metadata": {
    "collapsed": false,
    "pycharm": {
     "name": "#%%\n"
    }
   }
  },
  {
   "cell_type": "markdown",
   "metadata": {
    "pycharm": {
     "name": "#%%\n"
    }
   },
   "source": []
  },
  {
   "cell_type": "code",
   "execution_count": 2,
   "metadata": {},
   "outputs": [],
   "source": [
    "task_array = [[ 3, 3, 8, 3, 10, 10, 6, 5, 4, 6, 3, 6],\n",
    "              [ 3, 2, 8, 3, 2, 6, 6, 5, 4, 6, 3, 3],\n",
    "              [ 10, 6, 8, 3, 10, 10, 10, 5, 7, 6, 8, 10],\n",
    "              [ 1, 5, 4, 3, 1, 8, 10, 4, 7, 4, 8, 9],\n",
    "              [ 6, 6, 8, 3, 10, 10, 10, 5, 7, 6, 8, 9],\n",
    "              [ 7, 9, 8, 9, 10, 10, 10, 8, 7, 6, 8, 9],\n",
    "              [ 7, 9, 8, 9, 10, 10, 10, 8, 7, 6, 8, 9],\n",
    "              [ 7, 9, 8, 9, 10, 10, 10, 8, 7, 6, 8, 9],\n",
    "              [ 3, 3, 6, 3, 1, 5, 6, 5, 4, 6, 3, 5],\n",
    "              [ 5, 9, 10, 4, 1, 5, 10, 5, 4, 8, 3, 6],\n",
    "              [ 1, 2, 4, 3, 1, 5, 7, 4, 4, 4, 3, 3],\n",
    "              [ 1, 2, 4, 3, 1, 5, 7, 4, 4, 4, 3, 3],\n",
    "              [ 5, 6, 8, 8, 2, 10, 7, 7, 4, 4, 3, 4],\n",
    "              [ 7, 9, 8, 9, 10, 10, 10, 8, 7, 6, 8, 9],\n",
    "              [ 8, 9, 8, 9, 10, 10, 10, 8, 8, 6, 8, 9],\n",
    "              [ 7, 7, 8, 6, 2, 1, 4, 5, 6, 6, 2, 6],\n",
    "              [ 1, 3, 6, 4, 2, 1, 4, 4, 3, 3, 2, 6],\n",
    "              [10, 6, 8, 6, 10, 10, 10, 8, 7, 6, 10, 10],\n",
    "              [ 7, 3, 8, 6, 5, 7, 7, 8, 4, 4, 1, 1],\n",
    "              [ 8, 8, 8, 10, 6, 7, 10, 8, 4, 4, 10, 9],\n",
    "              [ 1, 3, 2, 4, 2, 1, 4, 4, 3, 3, 2, 6],\n",
    "              [ 1, 3, 2, 4, 2, 1, 2, 4, 3, 3, 2, 3]]"
   ]
  },
  {
   "cell_type": "markdown",
   "metadata": {},
   "source": [
    "#### Формування множини векторів сигма"
   ]
  },
  {
   "cell_type": "code",
   "execution_count": 9,
   "metadata": {},
   "outputs": [
    {
     "ename": "IndexError",
     "evalue": "list assignment index out of range",
     "output_type": "error",
     "traceback": [
      "\u001B[1;31m---------------------------------------------------------------------------\u001B[0m",
      "\u001B[1;31mIndexError\u001B[0m                                Traceback (most recent call last)",
      "\u001B[1;32m<ipython-input-9-07a5b278276b>\u001B[0m in \u001B[0;36m<module>\u001B[1;34m\u001B[0m\n\u001B[0;32m     17\u001B[0m             \u001B[0mprint\u001B[0m\u001B[1;33m(\u001B[0m\u001B[0mcompare_alternatives\u001B[0m\u001B[1;33m(\u001B[0m\u001B[0malternatives\u001B[0m\u001B[1;33m[\u001B[0m\u001B[0mi\u001B[0m\u001B[1;33m]\u001B[0m\u001B[1;33m,\u001B[0m \u001B[0malternatives\u001B[0m\u001B[1;33m[\u001B[0m\u001B[0mj\u001B[0m\u001B[1;33m]\u001B[0m\u001B[1;33m)\u001B[0m\u001B[1;33m)\u001B[0m\u001B[1;33m\u001B[0m\u001B[1;33m\u001B[0m\u001B[0m\n\u001B[0;32m     18\u001B[0m \u001B[1;33m\u001B[0m\u001B[0m\n\u001B[1;32m---> 19\u001B[1;33m \u001B[0msigma_vectors\u001B[0m\u001B[1;33m(\u001B[0m\u001B[0mtask_array\u001B[0m\u001B[1;33m)\u001B[0m\u001B[1;33m\u001B[0m\u001B[1;33m\u001B[0m\u001B[0m\n\u001B[0m\u001B[0;32m     20\u001B[0m \u001B[1;33m\u001B[0m\u001B[0m\n",
      "\u001B[1;32m<ipython-input-9-07a5b278276b>\u001B[0m in \u001B[0;36msigma_vectors\u001B[1;34m(matrix)\u001B[0m\n\u001B[0;32m     15\u001B[0m     \u001B[1;32mfor\u001B[0m \u001B[0mi\u001B[0m \u001B[1;32min\u001B[0m \u001B[0mrange\u001B[0m\u001B[1;33m(\u001B[0m\u001B[1;36m0\u001B[0m\u001B[1;33m,\u001B[0m \u001B[1;36m20\u001B[0m\u001B[1;33m)\u001B[0m\u001B[1;33m:\u001B[0m\u001B[1;33m\u001B[0m\u001B[1;33m\u001B[0m\u001B[0m\n\u001B[0;32m     16\u001B[0m         \u001B[1;32mfor\u001B[0m \u001B[0mj\u001B[0m \u001B[1;32min\u001B[0m \u001B[0mrange\u001B[0m\u001B[1;33m(\u001B[0m\u001B[1;36m0\u001B[0m\u001B[1;33m,\u001B[0m \u001B[1;36m20\u001B[0m\u001B[1;33m)\u001B[0m\u001B[1;33m:\u001B[0m\u001B[1;33m\u001B[0m\u001B[1;33m\u001B[0m\u001B[0m\n\u001B[1;32m---> 17\u001B[1;33m             \u001B[0mprint\u001B[0m\u001B[1;33m(\u001B[0m\u001B[0mcompare_alternatives\u001B[0m\u001B[1;33m(\u001B[0m\u001B[0malternatives\u001B[0m\u001B[1;33m[\u001B[0m\u001B[0mi\u001B[0m\u001B[1;33m]\u001B[0m\u001B[1;33m,\u001B[0m \u001B[0malternatives\u001B[0m\u001B[1;33m[\u001B[0m\u001B[0mj\u001B[0m\u001B[1;33m]\u001B[0m\u001B[1;33m)\u001B[0m\u001B[1;33m)\u001B[0m\u001B[1;33m\u001B[0m\u001B[1;33m\u001B[0m\u001B[0m\n\u001B[0m\u001B[0;32m     18\u001B[0m \u001B[1;33m\u001B[0m\u001B[0m\n\u001B[0;32m     19\u001B[0m \u001B[0msigma_vectors\u001B[0m\u001B[1;33m(\u001B[0m\u001B[0mtask_array\u001B[0m\u001B[1;33m)\u001B[0m\u001B[1;33m\u001B[0m\u001B[1;33m\u001B[0m\u001B[0m\n",
      "\u001B[1;32m<ipython-input-9-07a5b278276b>\u001B[0m in \u001B[0;36mcompare_alternatives\u001B[1;34m(a1, a2)\u001B[0m\n\u001B[0;32m      8\u001B[0m             \u001B[0mcomparison_result\u001B[0m\u001B[1;33m[\u001B[0m\u001B[0mi\u001B[0m\u001B[1;33m]\u001B[0m \u001B[1;33m=\u001B[0m \u001B[1;33m-\u001B[0m\u001B[1;36m1\u001B[0m\u001B[1;33m\u001B[0m\u001B[1;33m\u001B[0m\u001B[0m\n\u001B[0;32m      9\u001B[0m         \u001B[1;32melif\u001B[0m \u001B[0ma1\u001B[0m\u001B[1;33m[\u001B[0m\u001B[0mi\u001B[0m\u001B[1;33m]\u001B[0m \u001B[1;33m==\u001B[0m \u001B[0ma2\u001B[0m\u001B[1;33m[\u001B[0m\u001B[0mi\u001B[0m\u001B[1;33m]\u001B[0m\u001B[1;33m:\u001B[0m\u001B[1;33m\u001B[0m\u001B[1;33m\u001B[0m\u001B[0m\n\u001B[1;32m---> 10\u001B[1;33m             \u001B[0mcomparison_result\u001B[0m\u001B[1;33m[\u001B[0m\u001B[0mi\u001B[0m\u001B[1;33m]\u001B[0m \u001B[1;33m=\u001B[0m \u001B[1;36m0\u001B[0m\u001B[1;33m\u001B[0m\u001B[1;33m\u001B[0m\u001B[0m\n\u001B[0m\u001B[0;32m     11\u001B[0m     \u001B[1;32mreturn\u001B[0m \u001B[0mcomparison_result\u001B[0m\u001B[1;33m\u001B[0m\u001B[1;33m\u001B[0m\u001B[0m\n\u001B[0;32m     12\u001B[0m \u001B[1;33m\u001B[0m\u001B[0m\n",
      "\u001B[1;31mIndexError\u001B[0m: list assignment index out of range"
     ]
    }
   ],
   "source": [
    "def compare_alternatives ( a1, a2):\n",
    "    comparison_result = []\n",
    "    np.array(comparison_result)\n",
    "    for i in range(0, 12):\n",
    "        if a1[i] > a2[i]:\n",
    "            comparison_result[i] = 1\n",
    "        elif a1[i] < a2[i]:\n",
    "            comparison_result[i] = -1\n",
    "        elif a1[i] == a2[i]:\n",
    "            comparison_result[i] = 0\n",
    "    return comparison_result\n",
    "\n",
    "def sigma_vectors(matrix):\n",
    "    alternatives = np.array(matrix)\n",
    "    for i in range(0, 20):\n",
    "        for j in range(0, 20):\n",
    "            print(compare_alternatives(alternatives[i], alternatives[j]))\n",
    "\n",
    "sigma_vectors(task_array)\n",
    "    "
   ]
  },
  {
   "cell_type": "code",
   "execution_count": null,
   "metadata": {},
   "outputs": [],
   "source": []
  }
 ],
 "metadata": {
  "kernelspec": {
   "display_name": "Python 3",
   "language": "python",
   "name": "python3"
  },
  "language_info": {
   "codemirror_mode": {
    "name": "ipython",
    "version": 3
   },
   "file_extension": ".py",
   "mimetype": "text/x-python",
   "name": "python",
   "nbconvert_exporter": "python",
   "pygments_lexer": "ipython3",
   "version": "3.7.7"
  }
 },
 "nbformat": 4,
 "nbformat_minor": 1
}
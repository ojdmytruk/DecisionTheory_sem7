{
 "cells": [
  {
   "cell_type": "code",
   "execution_count": 2,
   "metadata": {},
   "outputs": [],
   "source": [
    "import numpy as np\n",
    "from graphviz import Digraph\n",
    "import itertools as it\n",
    "from functools import reduce\n",
    "import sys"
   ]
  },
  {
   "cell_type": "markdown",
   "metadata": {},
   "source": [
    "#### Перевірка на ациклічність пошуком в глибину"
   ]
  },
  {
   "cell_type": "code",
   "execution_count": 22,
   "metadata": {},
   "outputs": [
    {
     "name": "stdout",
     "output_type": "stream",
     "text": [
      "no\n"
     ]
    }
   ],
   "source": [
    "def acyclicity(matrix): \n",
    "    size = len(matrix)\n",
    "    oppos_matrix = opposite(matrix)\n",
    "    current_matrix = matrix[:]\n",
    "    if intersection(matrix, oppos_matrix).any():\n",
    "        return False\n",
    "    compos_matrix=composition(matrix,matrix)\n",
    "    while((compos_matrix == current_matrix).all()):\n",
    "        matrix = compos_matrix[:]\n",
    "        compos_matrix = composition(compos_matrix,matrix)\n",
    "        if intersection(matrix,oppos_matrix).any():\n",
    "            return False\n",
    "    return True\n",
    "\n",
    "def intersection(matrix1, matrix2):\n",
    "    size = len(matrix1)\n",
    "    intersection_matrix = np.empty((size,size))\n",
    "    for i in range(size):\n",
    "        for j in range(size):\n",
    "            intersection_matrix[i][j] = matrix1[i][j] and matrix2[i][j]\n",
    "    return intersection_matrix\n",
    "\n",
    "def composition(matrix1, matrix2): \n",
    "    size = len(matrix1)\n",
    "    compos_matrix = np.zeros((size,size))\n",
    "    for i in range(size):\n",
    "        for j in range(size):\n",
    "            if matrix1[i][j] == 1:\n",
    "                for k in range(size):\n",
    "                    if matrix2[j][k] == 1:\n",
    "                        compos_matrix[i][k] = 1\n",
    "    return compos_matrix\n",
    "\n",
    "def opposite(matrix): \n",
    "    return np.transpose(matrix)\n"
   ]
  },
  {
   "cell_type": "markdown",
   "metadata": {},
   "source": [
    "#### k-оптимізація"
   ]
  },
  {
   "cell_type": "code",
   "execution_count": 11,
   "metadata": {},
   "outputs": [],
   "source": [
    "def vec_nonzero(a):\n",
    "    return [set(ai.nonzero()[0]) for i, ai in enumerate(a)]\n",
    "\n",
    "#асиметрична частина\n",
    "def P(r):\n",
    "    return vec_nonzero(r * np.logical_not(r).transpose() * np.logical_not(np.eye(len(r))))\n",
    "#симетрична частина\n",
    "def I(r):\n",
    "    return vec_nonzero(r * r.transpose() + np.eye(len(r)))\n",
    "#відношення непорівнюваності\n",
    "def N(r):\n",
    "    return vec_nonzero(np.logical_not(r) * np.logical_not(r).transpose() * np.logical_not(np.eye(len(r))))\n",
    "\n",
    "def sk_sets(r):\n",
    "    p = P(r)\n",
    "    i = I(r)\n",
    "    n = N(r)\n",
    "    #  k=1 : p[j] | i[j] | n[j]\n",
    "    #  k=2 : p[j] | n[j]\n",
    "    #  k=3 : p[j] | i[j]\n",
    "    #  k=4 : p[j]\n",
    "    return [[p[j] | i[j] | n[j], p[j] | n[j], p[j] | i[j], p[j]] for j in range(0, len(r))]\n",
    "\n",
    "def get_i_max(Ski):\n",
    "    a = set()\n",
    "    for i, i_row in enumerate(Ski):\n",
    "        for j, j_row in enumerate(Ski):\n",
    "            if i_row < j_row:\n",
    "                break\n",
    "        else:\n",
    "            a.add(i)\n",
    "    return a\n",
    "\n",
    "def k_max(Sk):\n",
    "    return [get_i_max(Sk[:, i]) for i in range(0, 4)]\n"
   ]
  },
  {
   "cell_type": "markdown",
   "metadata": {},
   "source": [
    "#### Оптимізація за Нейманом-Моргенштерном"
   ]
  },
  {
   "cell_type": "code",
   "execution_count": 12,
   "metadata": {},
   "outputs": [],
   "source": [
    "def nonzero_in_column(r, idx):\n",
    "    return set(r[:, idx].nonzero()[0])\n",
    "\n",
    "def s_sets(r):\n",
    "    S = [set()]\n",
    "    while S[-1] != set(range(0, len(r))):  \n",
    "        S.append(set([i for i in range(0, len(r)) if nonzero_in_column(r, i) - set([i]) <= S[-1]]))\n",
    "    return S\n",
    "\n",
    "def neuman_morgenstern(r):\n",
    "    C = s_sets(r)\n",
    "    elements = np.hstack(map(lambda i: list(C[i] - C[i-1]), range(1, len(C))))\n",
    "    return reduce(lambda s, i: s | {i} if not nonzero_in_column(r, i) & s else s, elements, set()) \n",
    "    "
   ]
  },
  {
   "cell_type": "markdown",
   "metadata": {},
   "source": [
    "#### Читання та візуалізація графів"
   ]
  },
  {
   "cell_type": "code",
   "execution_count": 5,
   "metadata": {},
   "outputs": [],
   "source": [
    "with open (\"relations.txt\", 'r') as data: \n",
    "    relations = [[int(x) for x in line.split()] for line in data]\n",
    "    \n",
    "make_R = lambda lst, sz: [lst[i:i+sz] for i in range(0, len(lst), sz)]\n",
    "Relation = make_R(relations, 15)"
   ]
  },
  {
   "cell_type": "code",
   "execution_count": null,
   "metadata": {},
   "outputs": [
    {
     "name": "stdout",
     "output_type": "stream",
     "text": [
      "Відношення R1:\n",
      "--Ациклічне\n",
      "--Оптимізація за Нейманом-Моргенштерном:{1, 2, 5, 9}\n",
      "\n",
      "Відношення R2:\n",
      "--Містить цикли\n",
      "--Множини k-оптимальних альтернатив:\n",
      "['{3, 4, 5, 10, 11, 12}', '{3, 4, 5, 10, 11, 12}', '{3, 4, 5, 10, 11, 12}', '{3, 4, 5, 10, 11, 12}']\n",
      "\n",
      "Відношення R3:\n",
      "--Ациклічне\n",
      "--Оптимізація за Нейманом-Моргенштерном:{0, 2, 5}\n",
      "\n",
      "Відношення R4:\n",
      "--Ациклічне\n",
      "--Оптимізація за Нейманом-Моргенштерном:{0, 1, 4}\n",
      "\n",
      "Відношення R5:\n",
      "--Ациклічне\n",
      "--Оптимізація за Нейманом-Моргенштерном:{0, 8, 3}\n",
      "\n",
      "Відношення R6:\n",
      "--Містить цикли\n",
      "--Множини k-оптимальних альтернатив:\n",
      "['{1, 3, 8, 11, 12, 13}', '{1, 3, 8, 11, 12, 13}', '{1, 3, 8, 11, 12, 13}', '{8, 3, 12}']\n",
      "\n",
      "Відношення R7:\n",
      "--Ациклічне\n"
     ]
    },
    {
     "name": "stderr",
     "output_type": "stream",
     "text": [
      "c:\\users\\teraz\\appdata\\local\\programs\\python\\python37\\lib\\site-packages\\ipykernel_launcher.py:12: FutureWarning: arrays to stack must be passed as a \"sequence\" type such as list or tuple. Support for non-sequence iterables such as generators is deprecated as of NumPy 1.16 and will raise an error in the future.\n",
      "  if sys.path[0] == '':\n"
     ]
    }
   ],
   "source": [
    "for i, rel in zip(range(len(Relation)),Relation):\n",
    "    current_relation = np.array(rel)\n",
    "    print(\"Відношення R{}:\".format(i+1))\n",
    "    if acyclicity(current_relation):       \n",
    "        print (\"--Ациклічне\")\n",
    "        print (\"--Оптимізація за Нейманом-Моргенштерном:{}\".format(print_result(neuman_morgenstern(current_relation))))\n",
    "    else:\n",
    "        print (\"--Містить цикли\")\n",
    "        a = np.array(sk_sets(current_relation))\n",
    "        print (\"--Множини k-оптимальних альтернатив:\")\n",
    "        print ([print_result(x) for x in k_max(a)])\n",
    "    print (\"\")"
   ]
  },
  {
   "cell_type": "code",
   "execution_count": 7,
   "metadata": {},
   "outputs": [],
   "source": [
    "def print_set(s):\n",
    "    return \"{\" + \", \".join(str(v) for v in list(s)) + \"}\"\n",
    "\n",
    "def print_result(s):\n",
    "    return print_set(s)\n"
   ]
  },
  {
   "cell_type": "code",
   "execution_count": null,
   "metadata": {},
   "outputs": [],
   "source": []
  }
 ],
 "metadata": {
  "kernelspec": {
   "display_name": "Python 3",
   "language": "python",
   "name": "python3"
  },
  "language_info": {
   "codemirror_mode": {
    "name": "ipython",
    "version": 3
   },
   "file_extension": ".py",
   "mimetype": "text/x-python",
   "name": "python",
   "nbconvert_exporter": "python",
   "pygments_lexer": "ipython3",
   "version": "3.7.7"
  },
  "pycharm": {
   "stem_cell": {
    "cell_type": "raw",
    "metadata": {
     "collapsed": false
    },
    "source": [
     "\n",
     "\n",
     "\n"
    ]
   }
  }
 },
 "nbformat": 4,
 "nbformat_minor": 1
}

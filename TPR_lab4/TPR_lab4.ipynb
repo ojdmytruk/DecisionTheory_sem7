{
 "cells": [
  {
   "cell_type": "code",
   "execution_count": 21,
   "metadata": {
    "pycharm": {
     "is_executing": true
    }
   },
   "outputs": [],
   "source": [
    "import numpy as np\n",
    "from itertools import groupby"
   ]
  },
  {
   "cell_type": "markdown",
   "metadata": {},
   "source": [
    "#### Вхідні дані"
   ]
  },
  {
   "cell_type": "code",
   "execution_count": 22,
   "metadata": {},
   "outputs": [],
   "source": [
    "alternatives = [[ 7, 7, 9, 10, 10, 5, 2, 3, 5, 3, 9, 1],\n",
    "                [ 4, 9, 8, 6, 6, 9, 3, 10, 10, 3, 2, 6],\n",
    "                [ 2, 8, 8, 1, 1, 4, 2, 9, 1, 10, 3, 1],\n",
    "                [ 4, 10, 9, 4, 8, 5, 2, 8, 9, 10, 8, 5],\n",
    "                [ 4, 5, 5, 10, 1, 9, 5, 3, 1, 4, 4, 7],\n",
    "                [ 7, 7, 5, 3, 10, 3, 2, 7, 1, 2, 3, 1],\n",
    "                [ 3, 7, 7, 8, 9, 7, 2, 10, 2, 1, 5, 4],\n",
    "                [ 4, 1, 10, 3, 7, 1, 3, 2, 2, 5, 7, 4],\n",
    "                [ 10, 2, 5, 1, 9, 2, 9, 3, 6, 6, 4, 8],\n",
    "                [ 10, 6, 4, 4, 7, 9, 3, 6, 4, 5, 7, 9],\n",
    "                [ 4, 7, 7, 3, 1, 7, 6, 3, 3, 5, 7, 10],\n",
    "                [ 10, 4, 1, 9, 2, 4, 5, 1, 2, 3, 1, 10],\n",
    "                [ 7, 10, 7, 10, 9, 3, 4, 1, 2, 9, 4, 6],\n",
    "                [ 9, 4, 2, 6, 2, 10, 10, 6, 5, 3, 9, 6],\n",
    "                [ 6, 5, 2, 2, 6, 1, 6, 2, 1, 7, 3, 8]]\n",
    "\n",
    "weights = [ 4, 1, 5, 6, 4, 2, 1, 2, 9, 2, 6, 1]\n",
    "\n",
    "c = 0.660\n",
    "d = 0.461"
   ]
  },
  {
   "cell_type": "markdown",
   "metadata": {},
   "source": [
    "#### ELECTRE I"
   ]
  },
  {
   "cell_type": "code",
   "execution_count": 23,
   "metadata": {},
   "outputs": [
    {
     "data": {
      "text/plain": [
       "[1, 2, 4, 9, 13]"
      ]
     },
     "execution_count": 23,
     "metadata": {},
     "output_type": "execute_result"
    }
   ],
   "source": [
    "#\n",
    "def count_diff_ai_bi(alternatives_matrix, weights_array):\n",
    "    alt = np.array(alternatives_matrix)\n",
    "    weights = np.array(weights_array)\n",
    "    diffs_ai_bi = []\n",
    "    for i in range (0, len(alt[0,:])):\n",
    "        diffs_ai_bi.append(weights[i]*(np.amax(alt[:, i])-np.amin(alt[:,i])))\n",
    "    return diffs_ai_bi\n",
    "\n",
    "#count_diff_ai_bi(alternatives, weights)\n",
    "\n",
    "def sum_ij(a1, a2, weights_array):\n",
    "    result_sum = 0\n",
    "    for i in range(0, len(a1)):\n",
    "        if a1[i] >= a2[i]:\n",
    "            result_sum += weights_array[i]\n",
    "    return result_sum\n",
    "\n",
    "def c_matrix(alternatives_matrix, weights_array):\n",
    "    result_matrix = [[0]*15 for i in range(15)]\n",
    "    weights_sum = np.sum(weights_array)\n",
    "    for i in range(0, 15):\n",
    "        for j in range(0, 15):\n",
    "            if i != j:\n",
    "                result_matrix[i][j] = sum_ij(alternatives_matrix[i], alternatives_matrix[j], weights_array)/weights_sum\n",
    "    f = open(\"с_matrix.txt\", \"w\")\n",
    "    for i in range(0,len(result_matrix)):\n",
    "        for j in range(0,len(result_matrix)):\n",
    "            f.write(\" {:.3f} \".format(result_matrix[i][j]))\n",
    "        f.write('\\n')\n",
    "    f.close()\n",
    "    return result_matrix\n",
    "#c_matrix(alternatives, weights)\n",
    "\n",
    "def d_ij(a1, a2, weights_array, diffs_ai_bi):\n",
    "    diffs = []\n",
    "    selected_diffs_ai_bi = []\n",
    "    for i in range(0, len(a1)):\n",
    "        if a1[i] < a2[i]:\n",
    "            diffs.append(weights_array[i]*(a2[i]-a1[i]))\n",
    "            selected_diffs_ai_bi.append(diffs_ai_bi[i])   \n",
    "    try:\n",
    "        return np.amax(diffs)/np.amax(selected_diffs_ai_bi)\n",
    "    except:\n",
    "        return 0\n",
    "\n",
    "def d_matrix(alternatives_matrix, weights_array):\n",
    "    result_matrix = [[1]*15 for i in range(15)]\n",
    "    diffs_ai_bi = count_diff_ai_bi(alternatives_matrix, weights_array)\n",
    "    for i in range(0, 15):\n",
    "        for j in range(0, 15):\n",
    "            if i != j:\n",
    "                result_matrix[i][j] = d_ij(alternatives_matrix[i], alternatives_matrix[j], weights_array, diffs_ai_bi)\n",
    "    f = open(\"d_matrix.txt\", \"w\")\n",
    "    for i in range(0,len(result_matrix)):\n",
    "        for j in range(0,len(result_matrix)):\n",
    "            f.write(\" {:.3f} \".format(result_matrix[i][j]))\n",
    "        f.write('\\n')\n",
    "    f.close()\n",
    "    return result_matrix\n",
    "\n",
    "#d_matrix(alternatives, weights)\n",
    "#\n",
    "def electre_I(alternatives_matrix, weights_array, c, d):\n",
    "    C_matrix = np.array(c_matrix(alternatives_matrix, weights_array))\n",
    "    D_matrix = np.array(d_matrix(alternatives_matrix, weights_array))\n",
    "    R = []\n",
    "    X = []\n",
    "    for i in range(0, len(C_matrix)):\n",
    "        for j in range(0, len(C_matrix)):\n",
    "            if i != j and C_matrix[i][j] >= c and D_matrix[i][j] <= d:\n",
    "                R.append([i, j])\n",
    "    for i in range(0, 15):\n",
    "        flag = True\n",
    "        for j in range(0, len(R)):\n",
    "            if i in R[j]:\n",
    "                flag = False\n",
    "                break\n",
    "        if flag:\n",
    "            X.append(i)\n",
    "    for i in range(0, len(R)):\n",
    "        pair = R[i]\n",
    "        x_candidate = pair[0]\n",
    "        flag = True\n",
    "        for j in range(0, len(R)):\n",
    "            pair_compare = R[j]\n",
    "            if pair_compare[1] == x_candidate:\n",
    "                flag = False\n",
    "                break\n",
    "        if flag:\n",
    "            X.append(x_candidate)\n",
    "    X.sort()\n",
    "    X_result = [el for el, _ in groupby(X)]\n",
    "    for i in range(0, len(X_result)):\n",
    "        X_result[i] = X_result[i] + 1\n",
    "    return X_result\n",
    "\n",
    "electre_I(alternatives, weights, c, d)\n",
    "                "
   ]
  },
  {
   "cell_type": "code",
   "execution_count": null,
   "metadata": {},
   "outputs": [],
   "source": []
  }
 ],
 "metadata": {
  "kernelspec": {
   "display_name": "Python 3",
   "language": "python",
   "name": "python3"
  },
  "language_info": {
   "codemirror_mode": {
    "name": "ipython",
    "version": 3
   },
   "file_extension": ".py",
   "mimetype": "text/x-python",
   "name": "python",
   "nbconvert_exporter": "python",
   "pygments_lexer": "ipython3",
   "version": "3.7.7"
  }
 },
 "nbformat": 4,
 "nbformat_minor": 1
}
